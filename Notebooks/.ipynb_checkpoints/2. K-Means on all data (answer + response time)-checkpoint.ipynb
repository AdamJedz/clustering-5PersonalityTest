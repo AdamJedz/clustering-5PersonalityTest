{
 "cells": [
  {
   "cell_type": "code",
   "execution_count": 203,
   "metadata": {
    "ExecuteTime": {
     "end_time": "2020-06-05T13:06:51.284266Z",
     "start_time": "2020-06-05T13:06:51.274878Z"
    }
   },
   "outputs": [],
   "source": [
    "import numpy as np\n",
    "import pandas as pd\n",
    "\n",
    "import matplotlib.pyplot as plt\n",
    "import seaborn as sns\n",
    "\n",
    "from sklearn.preprocessing import StandardScaler, MinMaxScaler\n",
    "from sklearn.pipeline import Pipeline\n",
    "from sklearn.cluster import KMeans"
   ]
  },
  {
   "cell_type": "code",
   "execution_count": 204,
   "metadata": {
    "ExecuteTime": {
     "end_time": "2020-06-05T13:06:59.191046Z",
     "start_time": "2020-06-05T13:06:51.286878Z"
    }
   },
   "outputs": [],
   "source": [
    "df = pd.read_csv('../data-final.csv', sep = '\\t')\n",
    "df = df[df['IPC'] == 1]\n",
    "df.drop(['screenw', 'screenh', 'introelapse', 'testelapse', 'endelapse', 'IPC', 'dateload', 'lat_appx_lots_of_err',\n",
    "        'long_appx_lots_of_err'], axis=1, inplace=True)"
   ]
  },
  {
   "cell_type": "code",
   "execution_count": 205,
   "metadata": {
    "ExecuteTime": {
     "end_time": "2020-06-05T13:06:59.207043Z",
     "start_time": "2020-06-05T13:06:59.192995Z"
    }
   },
   "outputs": [],
   "source": [
    "pipeline = Pipeline(steps=[('standard_scaler', StandardScaler()),\n",
    "                          ('minmax_scaler', MinMaxScaler())])"
   ]
  },
  {
   "cell_type": "code",
   "execution_count": 206,
   "metadata": {
    "ExecuteTime": {
     "end_time": "2020-06-05T13:06:59.222173Z",
     "start_time": "2020-06-05T13:06:59.208995Z"
    }
   },
   "outputs": [
    {
     "data": {
      "text/plain": [
       "(696845, 101)"
      ]
     },
     "execution_count": 206,
     "metadata": {},
     "output_type": "execute_result"
    }
   ],
   "source": [
    "df.shape"
   ]
  },
  {
   "cell_type": "code",
   "execution_count": 207,
   "metadata": {
    "ExecuteTime": {
     "end_time": "2020-06-05T13:07:00.558732Z",
     "start_time": "2020-06-05T13:06:59.223999Z"
    }
   },
   "outputs": [],
   "source": [
    "df = df[df != 0].dropna()"
   ]
  },
  {
   "cell_type": "code",
   "execution_count": 208,
   "metadata": {
    "ExecuteTime": {
     "end_time": "2020-06-05T13:07:00.607991Z",
     "start_time": "2020-06-05T13:07:00.560683Z"
    }
   },
   "outputs": [
    {
     "data": {
      "text/html": [
       "<div>\n",
       "<style scoped>\n",
       "    .dataframe tbody tr th:only-of-type {\n",
       "        vertical-align: middle;\n",
       "    }\n",
       "\n",
       "    .dataframe tbody tr th {\n",
       "        vertical-align: top;\n",
       "    }\n",
       "\n",
       "    .dataframe thead th {\n",
       "        text-align: right;\n",
       "    }\n",
       "</style>\n",
       "<table border=\"1\" class=\"dataframe\">\n",
       "  <thead>\n",
       "    <tr style=\"text-align: right;\">\n",
       "      <th></th>\n",
       "      <th>EXT1</th>\n",
       "      <th>EXT2</th>\n",
       "      <th>EXT3</th>\n",
       "      <th>EXT4</th>\n",
       "      <th>EXT5</th>\n",
       "      <th>EXT6</th>\n",
       "      <th>EXT7</th>\n",
       "      <th>EXT8</th>\n",
       "      <th>EXT9</th>\n",
       "      <th>EXT10</th>\n",
       "      <th>...</th>\n",
       "      <th>OPN2_E</th>\n",
       "      <th>OPN3_E</th>\n",
       "      <th>OPN4_E</th>\n",
       "      <th>OPN5_E</th>\n",
       "      <th>OPN6_E</th>\n",
       "      <th>OPN7_E</th>\n",
       "      <th>OPN8_E</th>\n",
       "      <th>OPN9_E</th>\n",
       "      <th>OPN10_E</th>\n",
       "      <th>country</th>\n",
       "    </tr>\n",
       "  </thead>\n",
       "  <tbody>\n",
       "    <tr>\n",
       "      <th>0</th>\n",
       "      <td>4.0</td>\n",
       "      <td>1.0</td>\n",
       "      <td>5.0</td>\n",
       "      <td>2.0</td>\n",
       "      <td>5.0</td>\n",
       "      <td>1.0</td>\n",
       "      <td>5.0</td>\n",
       "      <td>2.0</td>\n",
       "      <td>4.0</td>\n",
       "      <td>1.0</td>\n",
       "      <td>...</td>\n",
       "      <td>4067.0</td>\n",
       "      <td>2959.0</td>\n",
       "      <td>3411.0</td>\n",
       "      <td>2170.0</td>\n",
       "      <td>4920.0</td>\n",
       "      <td>4436.0</td>\n",
       "      <td>3116.0</td>\n",
       "      <td>2992.0</td>\n",
       "      <td>4354.0</td>\n",
       "      <td>GB</td>\n",
       "    </tr>\n",
       "    <tr>\n",
       "      <th>1</th>\n",
       "      <td>3.0</td>\n",
       "      <td>5.0</td>\n",
       "      <td>3.0</td>\n",
       "      <td>4.0</td>\n",
       "      <td>3.0</td>\n",
       "      <td>3.0</td>\n",
       "      <td>2.0</td>\n",
       "      <td>5.0</td>\n",
       "      <td>1.0</td>\n",
       "      <td>5.0</td>\n",
       "      <td>...</td>\n",
       "      <td>4985.0</td>\n",
       "      <td>1684.0</td>\n",
       "      <td>3026.0</td>\n",
       "      <td>4742.0</td>\n",
       "      <td>3336.0</td>\n",
       "      <td>2718.0</td>\n",
       "      <td>3374.0</td>\n",
       "      <td>3096.0</td>\n",
       "      <td>3019.0</td>\n",
       "      <td>MY</td>\n",
       "    </tr>\n",
       "    <tr>\n",
       "      <th>2</th>\n",
       "      <td>2.0</td>\n",
       "      <td>3.0</td>\n",
       "      <td>4.0</td>\n",
       "      <td>4.0</td>\n",
       "      <td>3.0</td>\n",
       "      <td>2.0</td>\n",
       "      <td>1.0</td>\n",
       "      <td>3.0</td>\n",
       "      <td>2.0</td>\n",
       "      <td>5.0</td>\n",
       "      <td>...</td>\n",
       "      <td>1470.0</td>\n",
       "      <td>1644.0</td>\n",
       "      <td>1683.0</td>\n",
       "      <td>2229.0</td>\n",
       "      <td>8114.0</td>\n",
       "      <td>2043.0</td>\n",
       "      <td>6295.0</td>\n",
       "      <td>1585.0</td>\n",
       "      <td>2529.0</td>\n",
       "      <td>GB</td>\n",
       "    </tr>\n",
       "    <tr>\n",
       "      <th>3</th>\n",
       "      <td>2.0</td>\n",
       "      <td>2.0</td>\n",
       "      <td>2.0</td>\n",
       "      <td>3.0</td>\n",
       "      <td>4.0</td>\n",
       "      <td>2.0</td>\n",
       "      <td>2.0</td>\n",
       "      <td>4.0</td>\n",
       "      <td>1.0</td>\n",
       "      <td>4.0</td>\n",
       "      <td>...</td>\n",
       "      <td>6665.0</td>\n",
       "      <td>1977.0</td>\n",
       "      <td>3728.0</td>\n",
       "      <td>4128.0</td>\n",
       "      <td>3776.0</td>\n",
       "      <td>2984.0</td>\n",
       "      <td>4192.0</td>\n",
       "      <td>3480.0</td>\n",
       "      <td>3257.0</td>\n",
       "      <td>GB</td>\n",
       "    </tr>\n",
       "    <tr>\n",
       "      <th>5</th>\n",
       "      <td>3.0</td>\n",
       "      <td>3.0</td>\n",
       "      <td>4.0</td>\n",
       "      <td>2.0</td>\n",
       "      <td>4.0</td>\n",
       "      <td>2.0</td>\n",
       "      <td>2.0</td>\n",
       "      <td>3.0</td>\n",
       "      <td>3.0</td>\n",
       "      <td>4.0</td>\n",
       "      <td>...</td>\n",
       "      <td>5488.0</td>\n",
       "      <td>3656.0</td>\n",
       "      <td>4352.0</td>\n",
       "      <td>2681.0</td>\n",
       "      <td>3272.0</td>\n",
       "      <td>2640.0</td>\n",
       "      <td>1568.0</td>\n",
       "      <td>1640.0</td>\n",
       "      <td>3192.0</td>\n",
       "      <td>SE</td>\n",
       "    </tr>\n",
       "  </tbody>\n",
       "</table>\n",
       "<p>5 rows × 101 columns</p>\n",
       "</div>"
      ],
      "text/plain": [
       "   EXT1  EXT2  EXT3  EXT4  EXT5  EXT6  EXT7  EXT8  EXT9  EXT10  ...  OPN2_E  \\\n",
       "0   4.0   1.0   5.0   2.0   5.0   1.0   5.0   2.0   4.0    1.0  ...  4067.0   \n",
       "1   3.0   5.0   3.0   4.0   3.0   3.0   2.0   5.0   1.0    5.0  ...  4985.0   \n",
       "2   2.0   3.0   4.0   4.0   3.0   2.0   1.0   3.0   2.0    5.0  ...  1470.0   \n",
       "3   2.0   2.0   2.0   3.0   4.0   2.0   2.0   4.0   1.0    4.0  ...  6665.0   \n",
       "5   3.0   3.0   4.0   2.0   4.0   2.0   2.0   3.0   3.0    4.0  ...  5488.0   \n",
       "\n",
       "   OPN3_E  OPN4_E  OPN5_E  OPN6_E  OPN7_E  OPN8_E  OPN9_E  OPN10_E  country  \n",
       "0  2959.0  3411.0  2170.0  4920.0  4436.0  3116.0  2992.0   4354.0       GB  \n",
       "1  1684.0  3026.0  4742.0  3336.0  2718.0  3374.0  3096.0   3019.0       MY  \n",
       "2  1644.0  1683.0  2229.0  8114.0  2043.0  6295.0  1585.0   2529.0       GB  \n",
       "3  1977.0  3728.0  4128.0  3776.0  2984.0  4192.0  3480.0   3257.0       GB  \n",
       "5  3656.0  4352.0  2681.0  3272.0  2640.0  1568.0  1640.0   3192.0       SE  \n",
       "\n",
       "[5 rows x 101 columns]"
      ]
     },
     "execution_count": 208,
     "metadata": {},
     "output_type": "execute_result"
    }
   ],
   "source": [
    "df.head()"
   ]
  },
  {
   "cell_type": "markdown",
   "metadata": {},
   "source": [
    "# Remove response time outliers"
   ]
  },
  {
   "cell_type": "code",
   "execution_count": 209,
   "metadata": {
    "ExecuteTime": {
     "end_time": "2020-06-05T13:07:00.703175Z",
     "start_time": "2020-06-05T13:07:00.609991Z"
    }
   },
   "outputs": [],
   "source": [
    "df_time = df.filter(regex='(\\w{3}\\d+)_E$')"
   ]
  },
  {
   "cell_type": "code",
   "execution_count": 210,
   "metadata": {
    "ExecuteTime": {
     "end_time": "2020-06-05T13:07:01.852037Z",
     "start_time": "2020-06-05T13:07:00.705989Z"
    }
   },
   "outputs": [],
   "source": [
    "q1 = df_time.quantile(.25)\n",
    "q3 = df_time.quantile(.75)\n",
    "IQR = q3 -q1"
   ]
  },
  {
   "cell_type": "code",
   "execution_count": 211,
   "metadata": {
    "ExecuteTime": {
     "end_time": "2020-06-05T13:07:02.394056Z",
     "start_time": "2020-06-05T13:07:01.854005Z"
    }
   },
   "outputs": [
    {
     "data": {
      "text/plain": [
       "(135862, 50)"
      ]
     },
     "execution_count": 211,
     "metadata": {},
     "output_type": "execute_result"
    }
   ],
   "source": [
    "df_time = df_time[(df_time >= (q1 -1.5*IQR)) & (df_time <= (q3 + 1.5*IQR))].dropna()\n",
    "df_time.shape"
   ]
  },
  {
   "cell_type": "code",
   "execution_count": 212,
   "metadata": {
    "ExecuteTime": {
     "end_time": "2020-06-05T13:07:02.410007Z",
     "start_time": "2020-06-05T13:07:02.396009Z"
    }
   },
   "outputs": [
    {
     "data": {
      "text/plain": [
       "Int64Index([      1,       6,      10,      11,      14,      19,      24,\n",
       "                 28,      29,      37,\n",
       "            ...\n",
       "            1015283, 1015286, 1015298, 1015312, 1015316, 1015319, 1015324,\n",
       "            1015326, 1015337, 1015340],\n",
       "           dtype='int64', length=135862)"
      ]
     },
     "execution_count": 212,
     "metadata": {},
     "output_type": "execute_result"
    }
   ],
   "source": [
    "df_time.index"
   ]
  },
  {
   "cell_type": "code",
   "execution_count": 213,
   "metadata": {
    "ExecuteTime": {
     "end_time": "2020-06-05T13:07:02.570008Z",
     "start_time": "2020-06-05T13:07:02.411007Z"
    }
   },
   "outputs": [
    {
     "data": {
      "text/html": [
       "<div>\n",
       "<style scoped>\n",
       "    .dataframe tbody tr th:only-of-type {\n",
       "        vertical-align: middle;\n",
       "    }\n",
       "\n",
       "    .dataframe tbody tr th {\n",
       "        vertical-align: top;\n",
       "    }\n",
       "\n",
       "    .dataframe thead th {\n",
       "        text-align: right;\n",
       "    }\n",
       "</style>\n",
       "<table border=\"1\" class=\"dataframe\">\n",
       "  <thead>\n",
       "    <tr style=\"text-align: right;\">\n",
       "      <th></th>\n",
       "      <th>EXT1</th>\n",
       "      <th>EXT2</th>\n",
       "      <th>EXT3</th>\n",
       "      <th>EXT4</th>\n",
       "      <th>EXT5</th>\n",
       "      <th>EXT6</th>\n",
       "      <th>EXT7</th>\n",
       "      <th>EXT8</th>\n",
       "      <th>EXT9</th>\n",
       "      <th>EXT10</th>\n",
       "      <th>...</th>\n",
       "      <th>OPN2_E</th>\n",
       "      <th>OPN3_E</th>\n",
       "      <th>OPN4_E</th>\n",
       "      <th>OPN5_E</th>\n",
       "      <th>OPN6_E</th>\n",
       "      <th>OPN7_E</th>\n",
       "      <th>OPN8_E</th>\n",
       "      <th>OPN9_E</th>\n",
       "      <th>OPN10_E</th>\n",
       "      <th>country</th>\n",
       "    </tr>\n",
       "  </thead>\n",
       "  <tbody>\n",
       "    <tr>\n",
       "      <th>0</th>\n",
       "      <td>3.0</td>\n",
       "      <td>5.0</td>\n",
       "      <td>3.0</td>\n",
       "      <td>4.0</td>\n",
       "      <td>3.0</td>\n",
       "      <td>3.0</td>\n",
       "      <td>2.0</td>\n",
       "      <td>5.0</td>\n",
       "      <td>1.0</td>\n",
       "      <td>5.0</td>\n",
       "      <td>...</td>\n",
       "      <td>4985.0</td>\n",
       "      <td>1684.0</td>\n",
       "      <td>3026.0</td>\n",
       "      <td>4742.0</td>\n",
       "      <td>3336.0</td>\n",
       "      <td>2718.0</td>\n",
       "      <td>3374.0</td>\n",
       "      <td>3096.0</td>\n",
       "      <td>3019.0</td>\n",
       "      <td>MY</td>\n",
       "    </tr>\n",
       "    <tr>\n",
       "      <th>1</th>\n",
       "      <td>4.0</td>\n",
       "      <td>3.0</td>\n",
       "      <td>4.0</td>\n",
       "      <td>3.0</td>\n",
       "      <td>3.0</td>\n",
       "      <td>3.0</td>\n",
       "      <td>5.0</td>\n",
       "      <td>3.0</td>\n",
       "      <td>4.0</td>\n",
       "      <td>3.0</td>\n",
       "      <td>...</td>\n",
       "      <td>3274.0</td>\n",
       "      <td>2292.0</td>\n",
       "      <td>8305.0</td>\n",
       "      <td>2319.0</td>\n",
       "      <td>4013.0</td>\n",
       "      <td>2661.0</td>\n",
       "      <td>3591.0</td>\n",
       "      <td>3484.0</td>\n",
       "      <td>3872.0</td>\n",
       "      <td>US</td>\n",
       "    </tr>\n",
       "    <tr>\n",
       "      <th>2</th>\n",
       "      <td>3.0</td>\n",
       "      <td>3.0</td>\n",
       "      <td>2.0</td>\n",
       "      <td>3.0</td>\n",
       "      <td>3.0</td>\n",
       "      <td>2.0</td>\n",
       "      <td>4.0</td>\n",
       "      <td>3.0</td>\n",
       "      <td>3.0</td>\n",
       "      <td>5.0</td>\n",
       "      <td>...</td>\n",
       "      <td>2105.0</td>\n",
       "      <td>1118.0</td>\n",
       "      <td>1928.0</td>\n",
       "      <td>1606.0</td>\n",
       "      <td>1197.0</td>\n",
       "      <td>964.0</td>\n",
       "      <td>1434.0</td>\n",
       "      <td>1858.0</td>\n",
       "      <td>1193.0</td>\n",
       "      <td>UA</td>\n",
       "    </tr>\n",
       "    <tr>\n",
       "      <th>3</th>\n",
       "      <td>3.0</td>\n",
       "      <td>1.0</td>\n",
       "      <td>5.0</td>\n",
       "      <td>3.0</td>\n",
       "      <td>5.0</td>\n",
       "      <td>1.0</td>\n",
       "      <td>5.0</td>\n",
       "      <td>5.0</td>\n",
       "      <td>5.0</td>\n",
       "      <td>3.0</td>\n",
       "      <td>...</td>\n",
       "      <td>7515.0</td>\n",
       "      <td>4332.0</td>\n",
       "      <td>2306.0</td>\n",
       "      <td>1722.0</td>\n",
       "      <td>2294.0</td>\n",
       "      <td>3889.0</td>\n",
       "      <td>2332.0</td>\n",
       "      <td>2590.0</td>\n",
       "      <td>1624.0</td>\n",
       "      <td>PH</td>\n",
       "    </tr>\n",
       "    <tr>\n",
       "      <th>4</th>\n",
       "      <td>1.0</td>\n",
       "      <td>5.0</td>\n",
       "      <td>2.0</td>\n",
       "      <td>5.0</td>\n",
       "      <td>1.0</td>\n",
       "      <td>4.0</td>\n",
       "      <td>1.0</td>\n",
       "      <td>2.0</td>\n",
       "      <td>2.0</td>\n",
       "      <td>5.0</td>\n",
       "      <td>...</td>\n",
       "      <td>6052.0</td>\n",
       "      <td>2133.0</td>\n",
       "      <td>3744.0</td>\n",
       "      <td>2075.0</td>\n",
       "      <td>2230.0</td>\n",
       "      <td>2587.0</td>\n",
       "      <td>3350.0</td>\n",
       "      <td>3743.0</td>\n",
       "      <td>636.0</td>\n",
       "      <td>AU</td>\n",
       "    </tr>\n",
       "  </tbody>\n",
       "</table>\n",
       "<p>5 rows × 101 columns</p>\n",
       "</div>"
      ],
      "text/plain": [
       "   EXT1  EXT2  EXT3  EXT4  EXT5  EXT6  EXT7  EXT8  EXT9  EXT10  ...  OPN2_E  \\\n",
       "0   3.0   5.0   3.0   4.0   3.0   3.0   2.0   5.0   1.0    5.0  ...  4985.0   \n",
       "1   4.0   3.0   4.0   3.0   3.0   3.0   5.0   3.0   4.0    3.0  ...  3274.0   \n",
       "2   3.0   3.0   2.0   3.0   3.0   2.0   4.0   3.0   3.0    5.0  ...  2105.0   \n",
       "3   3.0   1.0   5.0   3.0   5.0   1.0   5.0   5.0   5.0    3.0  ...  7515.0   \n",
       "4   1.0   5.0   2.0   5.0   1.0   4.0   1.0   2.0   2.0    5.0  ...  6052.0   \n",
       "\n",
       "   OPN3_E  OPN4_E  OPN5_E  OPN6_E  OPN7_E  OPN8_E  OPN9_E  OPN10_E  country  \n",
       "0  1684.0  3026.0  4742.0  3336.0  2718.0  3374.0  3096.0   3019.0       MY  \n",
       "1  2292.0  8305.0  2319.0  4013.0  2661.0  3591.0  3484.0   3872.0       US  \n",
       "2  1118.0  1928.0  1606.0  1197.0   964.0  1434.0  1858.0   1193.0       UA  \n",
       "3  4332.0  2306.0  1722.0  2294.0  3889.0  2332.0  2590.0   1624.0       PH  \n",
       "4  2133.0  3744.0  2075.0  2230.0  2587.0  3350.0  3743.0    636.0       AU  \n",
       "\n",
       "[5 rows x 101 columns]"
      ]
     },
     "execution_count": 213,
     "metadata": {},
     "output_type": "execute_result"
    }
   ],
   "source": [
    "df_no_outliers = df.loc[df_time.index, :].reset_index(drop=True)\n",
    "df_no_outliers.head()"
   ]
  },
  {
   "cell_type": "markdown",
   "metadata": {},
   "source": [
    "# Normalize data"
   ]
  },
  {
   "cell_type": "code",
   "execution_count": 214,
   "metadata": {
    "ExecuteTime": {
     "end_time": "2020-06-05T13:07:03.079011Z",
     "start_time": "2020-06-05T13:07:02.572010Z"
    }
   },
   "outputs": [
    {
     "data": {
      "text/html": [
       "<div>\n",
       "<style scoped>\n",
       "    .dataframe tbody tr th:only-of-type {\n",
       "        vertical-align: middle;\n",
       "    }\n",
       "\n",
       "    .dataframe tbody tr th {\n",
       "        vertical-align: top;\n",
       "    }\n",
       "\n",
       "    .dataframe thead th {\n",
       "        text-align: right;\n",
       "    }\n",
       "</style>\n",
       "<table border=\"1\" class=\"dataframe\">\n",
       "  <thead>\n",
       "    <tr style=\"text-align: right;\">\n",
       "      <th></th>\n",
       "      <th>EXT1</th>\n",
       "      <th>EXT2</th>\n",
       "      <th>EXT3</th>\n",
       "      <th>EXT4</th>\n",
       "      <th>EXT5</th>\n",
       "      <th>EXT6</th>\n",
       "      <th>EXT7</th>\n",
       "      <th>EXT8</th>\n",
       "      <th>EXT9</th>\n",
       "      <th>EXT10</th>\n",
       "      <th>...</th>\n",
       "      <th>OPN1_E</th>\n",
       "      <th>OPN2_E</th>\n",
       "      <th>OPN3_E</th>\n",
       "      <th>OPN4_E</th>\n",
       "      <th>OPN5_E</th>\n",
       "      <th>OPN6_E</th>\n",
       "      <th>OPN7_E</th>\n",
       "      <th>OPN8_E</th>\n",
       "      <th>OPN9_E</th>\n",
       "      <th>OPN10_E</th>\n",
       "    </tr>\n",
       "  </thead>\n",
       "  <tbody>\n",
       "    <tr>\n",
       "      <th>0</th>\n",
       "      <td>0.50</td>\n",
       "      <td>1.0</td>\n",
       "      <td>0.50</td>\n",
       "      <td>0.75</td>\n",
       "      <td>0.5</td>\n",
       "      <td>0.50</td>\n",
       "      <td>0.25</td>\n",
       "      <td>1.00</td>\n",
       "      <td>0.00</td>\n",
       "      <td>1.0</td>\n",
       "      <td>...</td>\n",
       "      <td>0.320974</td>\n",
       "      <td>0.467630</td>\n",
       "      <td>0.236902</td>\n",
       "      <td>0.336247</td>\n",
       "      <td>0.623816</td>\n",
       "      <td>0.396941</td>\n",
       "      <td>0.330134</td>\n",
       "      <td>0.442900</td>\n",
       "      <td>0.374879</td>\n",
       "      <td>0.553708</td>\n",
       "    </tr>\n",
       "    <tr>\n",
       "      <th>1</th>\n",
       "      <td>0.75</td>\n",
       "      <td>0.5</td>\n",
       "      <td>0.75</td>\n",
       "      <td>0.50</td>\n",
       "      <td>0.5</td>\n",
       "      <td>0.50</td>\n",
       "      <td>1.00</td>\n",
       "      <td>0.50</td>\n",
       "      <td>0.75</td>\n",
       "      <td>0.5</td>\n",
       "      <td>...</td>\n",
       "      <td>0.461576</td>\n",
       "      <td>0.307093</td>\n",
       "      <td>0.313845</td>\n",
       "      <td>0.879075</td>\n",
       "      <td>0.305000</td>\n",
       "      <td>0.474207</td>\n",
       "      <td>0.323208</td>\n",
       "      <td>0.469836</td>\n",
       "      <td>0.421875</td>\n",
       "      <td>0.679223</td>\n",
       "    </tr>\n",
       "    <tr>\n",
       "      <th>2</th>\n",
       "      <td>0.50</td>\n",
       "      <td>0.5</td>\n",
       "      <td>0.25</td>\n",
       "      <td>0.50</td>\n",
       "      <td>0.5</td>\n",
       "      <td>0.25</td>\n",
       "      <td>0.75</td>\n",
       "      <td>0.50</td>\n",
       "      <td>0.50</td>\n",
       "      <td>1.0</td>\n",
       "      <td>...</td>\n",
       "      <td>0.228708</td>\n",
       "      <td>0.197410</td>\n",
       "      <td>0.165275</td>\n",
       "      <td>0.223342</td>\n",
       "      <td>0.211184</td>\n",
       "      <td>0.152819</td>\n",
       "      <td>0.117011</td>\n",
       "      <td>0.202085</td>\n",
       "      <td>0.224927</td>\n",
       "      <td>0.285021</td>\n",
       "    </tr>\n",
       "    <tr>\n",
       "      <th>3</th>\n",
       "      <td>0.50</td>\n",
       "      <td>0.0</td>\n",
       "      <td>1.00</td>\n",
       "      <td>0.50</td>\n",
       "      <td>1.0</td>\n",
       "      <td>0.00</td>\n",
       "      <td>1.00</td>\n",
       "      <td>1.00</td>\n",
       "      <td>1.00</td>\n",
       "      <td>0.5</td>\n",
       "      <td>...</td>\n",
       "      <td>0.626652</td>\n",
       "      <td>0.705010</td>\n",
       "      <td>0.572007</td>\n",
       "      <td>0.262211</td>\n",
       "      <td>0.226447</td>\n",
       "      <td>0.278019</td>\n",
       "      <td>0.472418</td>\n",
       "      <td>0.313555</td>\n",
       "      <td>0.313590</td>\n",
       "      <td>0.348440</td>\n",
       "    </tr>\n",
       "    <tr>\n",
       "      <th>4</th>\n",
       "      <td>0.00</td>\n",
       "      <td>1.0</td>\n",
       "      <td>0.25</td>\n",
       "      <td>1.00</td>\n",
       "      <td>0.0</td>\n",
       "      <td>0.75</td>\n",
       "      <td>0.00</td>\n",
       "      <td>0.25</td>\n",
       "      <td>0.25</td>\n",
       "      <td>1.0</td>\n",
       "      <td>...</td>\n",
       "      <td>0.123715</td>\n",
       "      <td>0.567743</td>\n",
       "      <td>0.293723</td>\n",
       "      <td>0.410077</td>\n",
       "      <td>0.272895</td>\n",
       "      <td>0.270714</td>\n",
       "      <td>0.314216</td>\n",
       "      <td>0.439921</td>\n",
       "      <td>0.453246</td>\n",
       "      <td>0.203061</td>\n",
       "    </tr>\n",
       "  </tbody>\n",
       "</table>\n",
       "<p>5 rows × 100 columns</p>\n",
       "</div>"
      ],
      "text/plain": [
       "   EXT1  EXT2  EXT3  EXT4  EXT5  EXT6  EXT7  EXT8  EXT9  EXT10  ...    OPN1_E  \\\n",
       "0  0.50   1.0  0.50  0.75   0.5  0.50  0.25  1.00  0.00    1.0  ...  0.320974   \n",
       "1  0.75   0.5  0.75  0.50   0.5  0.50  1.00  0.50  0.75    0.5  ...  0.461576   \n",
       "2  0.50   0.5  0.25  0.50   0.5  0.25  0.75  0.50  0.50    1.0  ...  0.228708   \n",
       "3  0.50   0.0  1.00  0.50   1.0  0.00  1.00  1.00  1.00    0.5  ...  0.626652   \n",
       "4  0.00   1.0  0.25  1.00   0.0  0.75  0.00  0.25  0.25    1.0  ...  0.123715   \n",
       "\n",
       "     OPN2_E    OPN3_E    OPN4_E    OPN5_E    OPN6_E    OPN7_E    OPN8_E  \\\n",
       "0  0.467630  0.236902  0.336247  0.623816  0.396941  0.330134  0.442900   \n",
       "1  0.307093  0.313845  0.879075  0.305000  0.474207  0.323208  0.469836   \n",
       "2  0.197410  0.165275  0.223342  0.211184  0.152819  0.117011  0.202085   \n",
       "3  0.705010  0.572007  0.262211  0.226447  0.278019  0.472418  0.313555   \n",
       "4  0.567743  0.293723  0.410077  0.272895  0.270714  0.314216  0.439921   \n",
       "\n",
       "     OPN9_E   OPN10_E  \n",
       "0  0.374879  0.553708  \n",
       "1  0.421875  0.679223  \n",
       "2  0.224927  0.285021  \n",
       "3  0.313590  0.348440  \n",
       "4  0.453246  0.203061  \n",
       "\n",
       "[5 rows x 100 columns]"
      ]
     },
     "execution_count": 214,
     "metadata": {},
     "output_type": "execute_result"
    }
   ],
   "source": [
    "scaled_df = pd.DataFrame(pipeline.fit_transform(df_no_outliers.drop(columns='country')), columns=df_no_outliers.columns[:-1])\n",
    "scaled_df.head()"
   ]
  },
  {
   "cell_type": "markdown",
   "metadata": {},
   "source": [
    "# Fitting KMeans on all data (answers + response time)"
   ]
  },
  {
   "cell_type": "code",
   "execution_count": 215,
   "metadata": {
    "ExecuteTime": {
     "end_time": "2020-06-05T13:07:23.057301Z",
     "start_time": "2020-06-05T13:07:03.080011Z"
    }
   },
   "outputs": [
    {
     "data": {
      "text/plain": [
       "array([1, 3, 4, ..., 3, 4, 4])"
      ]
     },
     "execution_count": 215,
     "metadata": {},
     "output_type": "execute_result"
    }
   ],
   "source": [
    "k_means_all_data = KMeans(n_clusters=5,max_iter=1000, random_state=42, n_jobs=-1)\n",
    "k_means_all_data.fit(scaled_df)\n",
    "k_means_all_data.labels_"
   ]
  },
  {
   "cell_type": "code",
   "execution_count": 216,
   "metadata": {
    "ExecuteTime": {
     "end_time": "2020-06-05T13:07:23.072252Z",
     "start_time": "2020-06-05T13:07:23.058254Z"
    }
   },
   "outputs": [],
   "source": [
    "df_no_outliers['label'] = k_means_all_data.labels_ + 1"
   ]
  },
  {
   "cell_type": "markdown",
   "metadata": {},
   "source": [
    "# Describing each group"
   ]
  },
  {
   "cell_type": "code",
   "execution_count": 217,
   "metadata": {
    "ExecuteTime": {
     "end_time": "2020-06-05T13:07:23.248257Z",
     "start_time": "2020-06-05T13:07:23.076260Z"
    }
   },
   "outputs": [
    {
     "data": {
      "text/html": [
       "<div>\n",
       "<style scoped>\n",
       "    .dataframe tbody tr th:only-of-type {\n",
       "        vertical-align: middle;\n",
       "    }\n",
       "\n",
       "    .dataframe tbody tr th {\n",
       "        vertical-align: top;\n",
       "    }\n",
       "\n",
       "    .dataframe thead th {\n",
       "        text-align: right;\n",
       "    }\n",
       "</style>\n",
       "<table border=\"1\" class=\"dataframe\">\n",
       "  <thead>\n",
       "    <tr style=\"text-align: right;\">\n",
       "      <th></th>\n",
       "      <th>EXT1</th>\n",
       "      <th>EXT2</th>\n",
       "      <th>EXT3</th>\n",
       "      <th>EXT4</th>\n",
       "      <th>EXT5</th>\n",
       "      <th>EXT6</th>\n",
       "      <th>EXT7</th>\n",
       "      <th>EXT8</th>\n",
       "      <th>EXT9</th>\n",
       "      <th>EXT10</th>\n",
       "      <th>...</th>\n",
       "      <th>OPN1</th>\n",
       "      <th>OPN2</th>\n",
       "      <th>OPN3</th>\n",
       "      <th>OPN4</th>\n",
       "      <th>OPN5</th>\n",
       "      <th>OPN6</th>\n",
       "      <th>OPN7</th>\n",
       "      <th>OPN8</th>\n",
       "      <th>OPN9</th>\n",
       "      <th>OPN10</th>\n",
       "    </tr>\n",
       "    <tr>\n",
       "      <th>label</th>\n",
       "      <th></th>\n",
       "      <th></th>\n",
       "      <th></th>\n",
       "      <th></th>\n",
       "      <th></th>\n",
       "      <th></th>\n",
       "      <th></th>\n",
       "      <th></th>\n",
       "      <th></th>\n",
       "      <th></th>\n",
       "      <th></th>\n",
       "      <th></th>\n",
       "      <th></th>\n",
       "      <th></th>\n",
       "      <th></th>\n",
       "      <th></th>\n",
       "      <th></th>\n",
       "      <th></th>\n",
       "      <th></th>\n",
       "      <th></th>\n",
       "      <th></th>\n",
       "    </tr>\n",
       "  </thead>\n",
       "  <tbody>\n",
       "    <tr>\n",
       "      <th>1</th>\n",
       "      <td>2.043577</td>\n",
       "      <td>3.508031</td>\n",
       "      <td>2.653304</td>\n",
       "      <td>3.691468</td>\n",
       "      <td>2.514697</td>\n",
       "      <td>2.874905</td>\n",
       "      <td>2.046709</td>\n",
       "      <td>3.767214</td>\n",
       "      <td>2.646727</td>\n",
       "      <td>4.041206</td>\n",
       "      <td>...</td>\n",
       "      <td>3.926670</td>\n",
       "      <td>1.870699</td>\n",
       "      <td>3.825153</td>\n",
       "      <td>2.018925</td>\n",
       "      <td>3.848060</td>\n",
       "      <td>2.046486</td>\n",
       "      <td>4.183034</td>\n",
       "      <td>3.533131</td>\n",
       "      <td>3.933650</td>\n",
       "      <td>3.862914</td>\n",
       "    </tr>\n",
       "    <tr>\n",
       "      <th>2</th>\n",
       "      <td>2.061116</td>\n",
       "      <td>3.303438</td>\n",
       "      <td>3.057385</td>\n",
       "      <td>3.724028</td>\n",
       "      <td>2.933011</td>\n",
       "      <td>2.633443</td>\n",
       "      <td>2.184211</td>\n",
       "      <td>4.056348</td>\n",
       "      <td>2.298912</td>\n",
       "      <td>4.160615</td>\n",
       "      <td>...</td>\n",
       "      <td>3.823216</td>\n",
       "      <td>2.015305</td>\n",
       "      <td>3.945932</td>\n",
       "      <td>1.988737</td>\n",
       "      <td>3.758231</td>\n",
       "      <td>1.959820</td>\n",
       "      <td>4.123130</td>\n",
       "      <td>3.232234</td>\n",
       "      <td>4.312420</td>\n",
       "      <td>3.834237</td>\n",
       "    </tr>\n",
       "    <tr>\n",
       "      <th>3</th>\n",
       "      <td>1.712090</td>\n",
       "      <td>3.689324</td>\n",
       "      <td>2.197099</td>\n",
       "      <td>4.183101</td>\n",
       "      <td>2.240214</td>\n",
       "      <td>3.212902</td>\n",
       "      <td>1.699607</td>\n",
       "      <td>4.173323</td>\n",
       "      <td>2.094310</td>\n",
       "      <td>4.553559</td>\n",
       "      <td>...</td>\n",
       "      <td>3.770213</td>\n",
       "      <td>2.276148</td>\n",
       "      <td>4.174478</td>\n",
       "      <td>2.038821</td>\n",
       "      <td>3.451961</td>\n",
       "      <td>2.021972</td>\n",
       "      <td>3.826388</td>\n",
       "      <td>3.425695</td>\n",
       "      <td>4.327452</td>\n",
       "      <td>3.779197</td>\n",
       "    </tr>\n",
       "    <tr>\n",
       "      <th>4</th>\n",
       "      <td>3.486198</td>\n",
       "      <td>1.910230</td>\n",
       "      <td>4.319048</td>\n",
       "      <td>2.192762</td>\n",
       "      <td>4.271193</td>\n",
       "      <td>1.624692</td>\n",
       "      <td>3.882988</td>\n",
       "      <td>2.757934</td>\n",
       "      <td>3.816548</td>\n",
       "      <td>2.493986</td>\n",
       "      <td>...</td>\n",
       "      <td>4.108463</td>\n",
       "      <td>1.679612</td>\n",
       "      <td>4.113498</td>\n",
       "      <td>1.759057</td>\n",
       "      <td>4.187038</td>\n",
       "      <td>1.681785</td>\n",
       "      <td>4.395595</td>\n",
       "      <td>3.515867</td>\n",
       "      <td>4.137625</td>\n",
       "      <td>4.295609</td>\n",
       "    </tr>\n",
       "    <tr>\n",
       "      <th>5</th>\n",
       "      <td>3.413780</td>\n",
       "      <td>1.944025</td>\n",
       "      <td>3.735647</td>\n",
       "      <td>2.510309</td>\n",
       "      <td>4.034673</td>\n",
       "      <td>1.793572</td>\n",
       "      <td>3.601470</td>\n",
       "      <td>2.773260</td>\n",
       "      <td>3.804685</td>\n",
       "      <td>3.014122</td>\n",
       "      <td>...</td>\n",
       "      <td>4.043084</td>\n",
       "      <td>1.969123</td>\n",
       "      <td>4.349427</td>\n",
       "      <td>1.864695</td>\n",
       "      <td>4.022055</td>\n",
       "      <td>1.734314</td>\n",
       "      <td>4.138041</td>\n",
       "      <td>3.682647</td>\n",
       "      <td>4.281587</td>\n",
       "      <td>4.259292</td>\n",
       "    </tr>\n",
       "  </tbody>\n",
       "</table>\n",
       "<p>5 rows × 50 columns</p>\n",
       "</div>"
      ],
      "text/plain": [
       "           EXT1      EXT2      EXT3      EXT4      EXT5      EXT6      EXT7  \\\n",
       "label                                                                         \n",
       "1      2.043577  3.508031  2.653304  3.691468  2.514697  2.874905  2.046709   \n",
       "2      2.061116  3.303438  3.057385  3.724028  2.933011  2.633443  2.184211   \n",
       "3      1.712090  3.689324  2.197099  4.183101  2.240214  3.212902  1.699607   \n",
       "4      3.486198  1.910230  4.319048  2.192762  4.271193  1.624692  3.882988   \n",
       "5      3.413780  1.944025  3.735647  2.510309  4.034673  1.793572  3.601470   \n",
       "\n",
       "           EXT8      EXT9     EXT10  ...      OPN1      OPN2      OPN3  \\\n",
       "label                                ...                                 \n",
       "1      3.767214  2.646727  4.041206  ...  3.926670  1.870699  3.825153   \n",
       "2      4.056348  2.298912  4.160615  ...  3.823216  2.015305  3.945932   \n",
       "3      4.173323  2.094310  4.553559  ...  3.770213  2.276148  4.174478   \n",
       "4      2.757934  3.816548  2.493986  ...  4.108463  1.679612  4.113498   \n",
       "5      2.773260  3.804685  3.014122  ...  4.043084  1.969123  4.349427   \n",
       "\n",
       "           OPN4      OPN5      OPN6      OPN7      OPN8      OPN9     OPN10  \n",
       "label                                                                        \n",
       "1      2.018925  3.848060  2.046486  4.183034  3.533131  3.933650  3.862914  \n",
       "2      1.988737  3.758231  1.959820  4.123130  3.232234  4.312420  3.834237  \n",
       "3      2.038821  3.451961  2.021972  3.826388  3.425695  4.327452  3.779197  \n",
       "4      1.759057  4.187038  1.681785  4.395595  3.515867  4.137625  4.295609  \n",
       "5      1.864695  4.022055  1.734314  4.138041  3.682647  4.281587  4.259292  \n",
       "\n",
       "[5 rows x 50 columns]"
      ]
     },
     "execution_count": 217,
     "metadata": {},
     "output_type": "execute_result"
    }
   ],
   "source": [
    "df_agg_answer =df_no_outliers.groupby('label').mean().filter(regex='(\\w{3}\\d+)$')\n",
    "df_agg_answer"
   ]
  },
  {
   "cell_type": "code",
   "execution_count": 218,
   "metadata": {
    "ExecuteTime": {
     "end_time": "2020-06-05T13:07:23.359439Z",
     "start_time": "2020-06-05T13:07:23.249255Z"
    }
   },
   "outputs": [
    {
     "data": {
      "text/html": [
       "<div>\n",
       "<style scoped>\n",
       "    .dataframe tbody tr th:only-of-type {\n",
       "        vertical-align: middle;\n",
       "    }\n",
       "\n",
       "    .dataframe tbody tr th {\n",
       "        vertical-align: top;\n",
       "    }\n",
       "\n",
       "    .dataframe thead th {\n",
       "        text-align: right;\n",
       "    }\n",
       "</style>\n",
       "<table border=\"1\" class=\"dataframe\">\n",
       "  <thead>\n",
       "    <tr style=\"text-align: right;\">\n",
       "      <th></th>\n",
       "      <th>EXT1</th>\n",
       "      <th>EXT2</th>\n",
       "      <th>EXT3</th>\n",
       "      <th>EXT4</th>\n",
       "      <th>EXT5</th>\n",
       "      <th>EXT6</th>\n",
       "      <th>EXT7</th>\n",
       "      <th>EXT8</th>\n",
       "      <th>EXT9</th>\n",
       "      <th>EXT10</th>\n",
       "      <th>...</th>\n",
       "      <th>OPN2_E</th>\n",
       "      <th>OPN3_E</th>\n",
       "      <th>OPN4_E</th>\n",
       "      <th>OPN5_E</th>\n",
       "      <th>OPN6_E</th>\n",
       "      <th>OPN7_E</th>\n",
       "      <th>OPN8_E</th>\n",
       "      <th>OPN9_E</th>\n",
       "      <th>OPN10_E</th>\n",
       "      <th>country</th>\n",
       "    </tr>\n",
       "    <tr>\n",
       "      <th>label</th>\n",
       "      <th></th>\n",
       "      <th></th>\n",
       "      <th></th>\n",
       "      <th></th>\n",
       "      <th></th>\n",
       "      <th></th>\n",
       "      <th></th>\n",
       "      <th></th>\n",
       "      <th></th>\n",
       "      <th></th>\n",
       "      <th></th>\n",
       "      <th></th>\n",
       "      <th></th>\n",
       "      <th></th>\n",
       "      <th></th>\n",
       "      <th></th>\n",
       "      <th></th>\n",
       "      <th></th>\n",
       "      <th></th>\n",
       "      <th></th>\n",
       "      <th></th>\n",
       "    </tr>\n",
       "  </thead>\n",
       "  <tbody>\n",
       "    <tr>\n",
       "      <th>1</th>\n",
       "      <td>22351</td>\n",
       "      <td>22351</td>\n",
       "      <td>22351</td>\n",
       "      <td>22351</td>\n",
       "      <td>22351</td>\n",
       "      <td>22351</td>\n",
       "      <td>22351</td>\n",
       "      <td>22351</td>\n",
       "      <td>22351</td>\n",
       "      <td>22351</td>\n",
       "      <td>...</td>\n",
       "      <td>22351</td>\n",
       "      <td>22351</td>\n",
       "      <td>22351</td>\n",
       "      <td>22351</td>\n",
       "      <td>22351</td>\n",
       "      <td>22351</td>\n",
       "      <td>22351</td>\n",
       "      <td>22351</td>\n",
       "      <td>22351</td>\n",
       "      <td>22351</td>\n",
       "    </tr>\n",
       "    <tr>\n",
       "      <th>2</th>\n",
       "      <td>28945</td>\n",
       "      <td>28945</td>\n",
       "      <td>28945</td>\n",
       "      <td>28945</td>\n",
       "      <td>28945</td>\n",
       "      <td>28945</td>\n",
       "      <td>28945</td>\n",
       "      <td>28945</td>\n",
       "      <td>28945</td>\n",
       "      <td>28945</td>\n",
       "      <td>...</td>\n",
       "      <td>28945</td>\n",
       "      <td>28945</td>\n",
       "      <td>28945</td>\n",
       "      <td>28945</td>\n",
       "      <td>28945</td>\n",
       "      <td>28945</td>\n",
       "      <td>28945</td>\n",
       "      <td>28945</td>\n",
       "      <td>28945</td>\n",
       "      <td>28945</td>\n",
       "    </tr>\n",
       "    <tr>\n",
       "      <th>3</th>\n",
       "      <td>27717</td>\n",
       "      <td>27717</td>\n",
       "      <td>27717</td>\n",
       "      <td>27717</td>\n",
       "      <td>27717</td>\n",
       "      <td>27717</td>\n",
       "      <td>27717</td>\n",
       "      <td>27717</td>\n",
       "      <td>27717</td>\n",
       "      <td>27717</td>\n",
       "      <td>...</td>\n",
       "      <td>27717</td>\n",
       "      <td>27717</td>\n",
       "      <td>27717</td>\n",
       "      <td>27717</td>\n",
       "      <td>27717</td>\n",
       "      <td>27717</td>\n",
       "      <td>27717</td>\n",
       "      <td>27717</td>\n",
       "      <td>27717</td>\n",
       "      <td>27717</td>\n",
       "    </tr>\n",
       "    <tr>\n",
       "      <th>4</th>\n",
       "      <td>27604</td>\n",
       "      <td>27604</td>\n",
       "      <td>27604</td>\n",
       "      <td>27604</td>\n",
       "      <td>27604</td>\n",
       "      <td>27604</td>\n",
       "      <td>27604</td>\n",
       "      <td>27604</td>\n",
       "      <td>27604</td>\n",
       "      <td>27604</td>\n",
       "      <td>...</td>\n",
       "      <td>27604</td>\n",
       "      <td>27604</td>\n",
       "      <td>27604</td>\n",
       "      <td>27604</td>\n",
       "      <td>27604</td>\n",
       "      <td>27604</td>\n",
       "      <td>27604</td>\n",
       "      <td>27604</td>\n",
       "      <td>27604</td>\n",
       "      <td>27604</td>\n",
       "    </tr>\n",
       "    <tr>\n",
       "      <th>5</th>\n",
       "      <td>29245</td>\n",
       "      <td>29245</td>\n",
       "      <td>29245</td>\n",
       "      <td>29245</td>\n",
       "      <td>29245</td>\n",
       "      <td>29245</td>\n",
       "      <td>29245</td>\n",
       "      <td>29245</td>\n",
       "      <td>29245</td>\n",
       "      <td>29245</td>\n",
       "      <td>...</td>\n",
       "      <td>29245</td>\n",
       "      <td>29245</td>\n",
       "      <td>29245</td>\n",
       "      <td>29245</td>\n",
       "      <td>29245</td>\n",
       "      <td>29245</td>\n",
       "      <td>29245</td>\n",
       "      <td>29245</td>\n",
       "      <td>29245</td>\n",
       "      <td>29245</td>\n",
       "    </tr>\n",
       "  </tbody>\n",
       "</table>\n",
       "<p>5 rows × 101 columns</p>\n",
       "</div>"
      ],
      "text/plain": [
       "        EXT1   EXT2   EXT3   EXT4   EXT5   EXT6   EXT7   EXT8   EXT9  EXT10  \\\n",
       "label                                                                         \n",
       "1      22351  22351  22351  22351  22351  22351  22351  22351  22351  22351   \n",
       "2      28945  28945  28945  28945  28945  28945  28945  28945  28945  28945   \n",
       "3      27717  27717  27717  27717  27717  27717  27717  27717  27717  27717   \n",
       "4      27604  27604  27604  27604  27604  27604  27604  27604  27604  27604   \n",
       "5      29245  29245  29245  29245  29245  29245  29245  29245  29245  29245   \n",
       "\n",
       "       ...  OPN2_E  OPN3_E  OPN4_E  OPN5_E  OPN6_E  OPN7_E  OPN8_E  OPN9_E  \\\n",
       "label  ...                                                                   \n",
       "1      ...   22351   22351   22351   22351   22351   22351   22351   22351   \n",
       "2      ...   28945   28945   28945   28945   28945   28945   28945   28945   \n",
       "3      ...   27717   27717   27717   27717   27717   27717   27717   27717   \n",
       "4      ...   27604   27604   27604   27604   27604   27604   27604   27604   \n",
       "5      ...   29245   29245   29245   29245   29245   29245   29245   29245   \n",
       "\n",
       "       OPN10_E  country  \n",
       "label                    \n",
       "1        22351    22351  \n",
       "2        28945    28945  \n",
       "3        27717    27717  \n",
       "4        27604    27604  \n",
       "5        29245    29245  \n",
       "\n",
       "[5 rows x 101 columns]"
      ]
     },
     "execution_count": 218,
     "metadata": {},
     "output_type": "execute_result"
    }
   ],
   "source": [
    "df_no_outliers.groupby('label').count()"
   ]
  },
  {
   "cell_type": "markdown",
   "metadata": {},
   "source": [
    "Every class has pretty much the same maount of observations (range is around 7000)."
   ]
  },
  {
   "cell_type": "markdown",
   "metadata": {},
   "source": [
    "## Most agreeable question for each group"
   ]
  },
  {
   "cell_type": "code",
   "execution_count": 219,
   "metadata": {
    "ExecuteTime": {
     "end_time": "2020-06-05T13:07:23.374254Z",
     "start_time": "2020-06-05T13:07:23.362257Z"
    }
   },
   "outputs": [
    {
     "name": "stdout",
     "output_type": "stream",
     "text": [
      "Class 1: OPN7 avg answer: 4.183034316137981\n",
      "Class 2: AGR4 avg answer: 4.39081015719468\n",
      "Class 3: EST3 avg answer: 4.588591838943609\n",
      "Class 4: AGR2 avg answer: 4.437074337052601\n",
      "Class 5: OPN3 avg answer: 4.3494272525217985\n"
     ]
    }
   ],
   "source": [
    "for i in range(1,6):\n",
    "    print(f'Class {i}: {df_agg_answer.loc[i, :].sort_values(ascending=False).index[0]} avg answer: {df_agg_answer.loc[i, :].sort_values(ascending=False).values[0]}')"
   ]
  },
  {
   "cell_type": "markdown",
   "metadata": {},
   "source": [
    "Most agreeable questions:  \n",
    "* *Class 1* **OPN7** - I am quick to understand things. \n",
    "* *Class 2* **AGR4** - I sympathize with others' feelings. \n",
    "* *Class 3* **EST3** - I worry about things.  \n",
    "* *Class 4* **AGR2** - I am interested in people.  \n",
    "* *Class 5* **OPN3** - I have a vivid imagination."
   ]
  },
  {
   "cell_type": "markdown",
   "metadata": {},
   "source": [
    "Looking at most agreeable questions we can assume that class 3 could be the most insecure."
   ]
  },
  {
   "cell_type": "markdown",
   "metadata": {},
   "source": [
    "## Least agreeable question for each group"
   ]
  },
  {
   "cell_type": "code",
   "execution_count": 220,
   "metadata": {
    "ExecuteTime": {
     "end_time": "2020-06-05T13:07:23.389267Z",
     "start_time": "2020-06-05T13:07:23.375261Z"
    }
   },
   "outputs": [
    {
     "name": "stdout",
     "output_type": "stream",
     "text": [
      "Class 1: OPN2 avg answer: 1.8706992975705785\n",
      "Class 2: AGR1 avg answer: 1.66039039557782\n",
      "Class 3: EXT7 avg answer: 1.699606739546127\n",
      "Class 4: AGR7 avg answer: 1.6244747138095927\n",
      "Class 5: OPN6 avg answer: 1.7343135578731408\n"
     ]
    }
   ],
   "source": [
    "for i in range(1,6):\n",
    "    print(f'Class {i}: {df_agg_answer.loc[i, :].sort_values().index[0]} avg answer: {df_agg_answer.loc[i, :].sort_values().values[0]}')"
   ]
  },
  {
   "cell_type": "markdown",
   "metadata": {
    "ExecuteTime": {
     "end_time": "2020-06-05T09:27:04.481386Z",
     "start_time": "2020-06-05T09:27:04.451371Z"
    }
   },
   "source": [
    "Least agreeable questions:  \n",
    "* *Class 1* **OPN2** - I have difficulty understanding abstract ideas.\n",
    "* *Class 2* **AGR1** - I feel little concern for others.\n",
    "* *Class 3* **EXT7** - I talk to a lot of different people at parties. \n",
    "* *Class 4* **AGR7** - I am not really interested in others.\n",
    "* *Class 5* **OPN6** - I do not have a good imagination."
   ]
  },
  {
   "cell_type": "markdown",
   "metadata": {
    "ExecuteTime": {
     "end_time": "2020-06-05T09:27:04.513383Z",
     "start_time": "2020-06-05T09:27:04.483347Z"
    }
   },
   "source": [
    "Looking on both most and least agreeable questions we can confirm that:  \n",
    "* Class 1 perceive themselves as smart,  \n",
    "* Class 2 and Class 4 are caring,  \n",
    "* Class 3 is insecure,  \n",
    "* Class 5 could be creative."
   ]
  },
  {
   "cell_type": "markdown",
   "metadata": {
    "ExecuteTime": {
     "end_time": "2020-06-05T09:42:48.143016Z",
     "start_time": "2020-06-05T09:42:48.124984Z"
    }
   },
   "source": [
    "## 5 top and bottom questions for each class"
   ]
  },
  {
   "cell_type": "code",
   "execution_count": 221,
   "metadata": {
    "ExecuteTime": {
     "end_time": "2020-06-05T13:07:23.405347Z",
     "start_time": "2020-06-05T13:07:23.391260Z"
    }
   },
   "outputs": [],
   "source": [
    "import ipywidgets as widgets\n",
    "from IPython.display import display, clear_output"
   ]
  },
  {
   "cell_type": "markdown",
   "metadata": {},
   "source": [
    "### Class 1"
   ]
  },
  {
   "cell_type": "markdown",
   "metadata": {},
   "source": [
    "**TOP:**  \n",
    "OPN7\tI am quick to understand things.  \n",
    "OPN10\tI am full of ideas.  \n",
    "OPN9\tI spend time reflecting on things.  \n",
    "OPN1    I have a rich vocabulary.  \n",
    "CSN3    I pay attention to details."
   ]
  },
  {
   "cell_type": "markdown",
   "metadata": {},
   "source": [
    "**BOTTOM:**  \n",
    "OPN2\tI have difficulty understanding abstract ideas.  \n",
    "OPN4\tI am not interested in abstract ideas.  \n",
    "EXT1\tI am the life of the party.  \n",
    "OPN6\tI do not have a good imagination.  \n",
    "EXT7\tI talk to a lot of different people at parties."
   ]
  },
  {
   "cell_type": "markdown",
   "metadata": {},
   "source": [
    "People who belong to class 1 for sure perceive themselves as smart, creative people. However from some of bottom question we can assume that they also could be a bit shy."
   ]
  },
  {
   "cell_type": "markdown",
   "metadata": {},
   "source": [
    "### Class 2"
   ]
  },
  {
   "cell_type": "markdown",
   "metadata": {},
   "source": [
    "**TOP:**  \n",
    "AGR4\tI sympathize with others' feelings.  \n",
    "OPN9\tI spend time reflecting on things.  \n",
    "CSN3\tI pay attention to details.  \n",
    "CSN7\tI like order.  \n",
    "EXT10\tI am quiet around strangers."
   ]
  },
  {
   "cell_type": "markdown",
   "metadata": {},
   "source": [
    "**BOTTOM:**  \n",
    "AGR1\tI feel little concern for others.  \n",
    "AGR3\tI insult people.  \n",
    "AGR5\tI am not interested in other people's problems.  \n",
    "OPN6\tI do not have a good imagination.  \n",
    "AGR7\tI am not really interested in others."
   ]
  },
  {
   "cell_type": "markdown",
   "metadata": {},
   "source": [
    "For people from class 2 the most important part of life are other people. They perceive themselves as kind but detail oriented people who like order."
   ]
  },
  {
   "cell_type": "markdown",
   "metadata": {},
   "source": [
    "### Class 3"
   ]
  },
  {
   "cell_type": "markdown",
   "metadata": {},
   "source": [
    "**TOP:**  \n",
    "EST3\tI worry about things.  \n",
    "EXT10\tI am quiet around strangers.  \n",
    "EST1\tI get stressed out easily.  \n",
    "OPN9\tI spend time reflecting on things.  \n",
    "EXT4\tI keep in the background."
   ]
  },
  {
   "cell_type": "markdown",
   "metadata": {},
   "source": [
    "**BOTTOM:**  \n",
    "EXT7\tI talk to a lot of different people at parties.  \n",
    "EXT1\tI am the life of the party.  \n",
    "EST4\tI seldom feel blue.  \n",
    "CSN5\tI get chores done right away.  \n",
    "OPN6\tI do not have a good imagination."
   ]
  },
  {
   "cell_type": "markdown",
   "metadata": {},
   "source": [
    "Class 3 is the most insecure and shy of all five classes. We can say that people who belong to third class could be a bit depressed and unorganized."
   ]
  },
  {
   "cell_type": "markdown",
   "metadata": {},
   "source": [
    "### Class 4"
   ]
  },
  {
   "cell_type": "markdown",
   "metadata": {},
   "source": [
    "**TOP:**  \n",
    "AGR2\tI am interested in people.  \n",
    "OPN7\tI am quick to understand things.  \n",
    "EXT3\tI feel comfortable around people.  \n",
    "OPN10\tI am full of ideas.  \n",
    "EXT5\tI start conversations."
   ]
  },
  {
   "cell_type": "markdown",
   "metadata": {},
   "source": [
    "**BOTTOM:**  \n",
    "AGR7\tI am not really interested in others.  \n",
    "EXT6\tI have little to say.  \n",
    "OPN2\tI have difficulty understanding abstract ideas.  \n",
    "OPN6\tI do not have a good imagination.  \n",
    "EST8\tI have frequent mood swings."
   ]
  },
  {
   "cell_type": "markdown",
   "metadata": {},
   "source": [
    "Class 4 is combinaton of class 1 and 2. People in this class are smart and self confident. Have stable emotions and perceive thmecelves as creative."
   ]
  },
  {
   "cell_type": "markdown",
   "metadata": {},
   "source": [
    "### Class 5"
   ]
  },
  {
   "cell_type": "markdown",
   "metadata": {},
   "source": [
    "**TOP:**  \n",
    "OPN3\tI have a vivid imagination.  \n",
    "EST3\tI worry about things.  \n",
    "AGR2\tI am interested in people.  \n",
    "OPN9\tI spend time reflecting on things.  \n",
    "OPN10\tI am full of ideas."
   ]
  },
  {
   "cell_type": "markdown",
   "metadata": {},
   "source": [
    "**BOTTOM:**  \n",
    "OPN6\tI do not have a good imagination.  \n",
    "EXT6\tI have little to say.  \n",
    "OPN4\tI am not interested in abstract ideas.  \n",
    "AGR7\tI am not really interested in others.  \n",
    "EXT2\tI don't talk a lot."
   ]
  },
  {
   "cell_type": "markdown",
   "metadata": {},
   "source": [
    "Class 5 could be called 'middle one'. People from this class like others (and for sure are talkative) but also are insecure."
   ]
  },
  {
   "cell_type": "markdown",
   "metadata": {},
   "source": [
    "### Widget for top/bottom questions for each class"
   ]
  },
  {
   "cell_type": "code",
   "execution_count": 222,
   "metadata": {
    "ExecuteTime": {
     "end_time": "2020-06-05T13:07:23.421257Z",
     "start_time": "2020-06-05T13:07:23.406257Z"
    }
   },
   "outputs": [],
   "source": [
    "import joblib\n",
    "\n",
    "questions = joblib.load('../questions.joblib')"
   ]
  },
  {
   "cell_type": "code",
   "execution_count": 223,
   "metadata": {
    "ExecuteTime": {
     "end_time": "2020-06-05T13:07:23.469293Z",
     "start_time": "2020-06-05T13:07:23.423283Z"
    },
    "scrolled": false
   },
   "outputs": [
    {
     "data": {
      "application/vnd.jupyter.widget-view+json": {
       "model_id": "5ee9394b8de2449bb8e4777e48be5901",
       "version_major": 2,
       "version_minor": 0
      },
      "text/plain": [
       "RadioButtons(options=('Top', 'Bottom'), value='Top')"
      ]
     },
     "metadata": {},
     "output_type": "display_data"
    },
    {
     "data": {
      "application/vnd.jupyter.widget-view+json": {
       "model_id": "84e3c0c6286044aab1c090e606064997",
       "version_major": 2,
       "version_minor": 0
      },
      "text/plain": [
       "IntSlider(value=7, description='No of questions', max=10, min=1)"
      ]
     },
     "metadata": {},
     "output_type": "display_data"
    },
    {
     "data": {
      "application/vnd.jupyter.widget-view+json": {
       "model_id": "03e876164c554f70be27b2d72386cfae",
       "version_major": 2,
       "version_minor": 0
      },
      "text/plain": [
       "Dropdown(description='Class:', index=3, options=(1, 2, 3, 4, 5), value=4)"
      ]
     },
     "metadata": {},
     "output_type": "display_data"
    },
    {
     "data": {
      "application/vnd.jupyter.widget-view+json": {
       "model_id": "4389869f40e24b4d865140a1172e8fca",
       "version_major": 2,
       "version_minor": 0
      },
      "text/plain": [
       "Button(description='Click', style=ButtonStyle())"
      ]
     },
     "metadata": {},
     "output_type": "display_data"
    },
    {
     "data": {
      "image/png": "[encoded data removed]",
      "text/plain": [
       "<Figure size 576x360 with 1 Axes>"
      ]
     },
     "metadata": {
      "needs_background": "light"
     },
     "output_type": "display_data"
    },
    {
     "name": "stdout",
     "output_type": "stream",
     "text": [
      "AGR2 - I am interested in people.\n",
      "OPN7 - I am quick to understand things.\n",
      "EXT3 - I feel comfortable around people.\n",
      "OPN10 - I am full of ideas.\n",
      "EXT5 - I start conversations.\n",
      "AGR4 - I sympathize with others' feelings.\n",
      "OPN5 - I have excellent ideas.\n"
     ]
    }
   ],
   "source": [
    "def click(button):\n",
    "    clear_output()\n",
    "    if side.value == 'Top':\n",
    "        ascending = False\n",
    "    else:\n",
    "        ascending = True\n",
    "    plt.figure(figsize=(8,5))\n",
    "    plt.bar(df_agg_answer.loc[choice_widget.value,:].sort_values(ascending=ascending)[:no_columns.value].index, \n",
    "           df_agg_answer.loc[choice_widget.value,:].sort_values(ascending=ascending)[:no_columns.value].values)\n",
    "    plt.title(f'{side.value} 5 questions for class {choice_widget.value}')\n",
    "    plt.xlabel('Questions')\n",
    "    plt.ylabel('Mean answer')\n",
    "    plt.ylim(top=5)\n",
    "    display(side)\n",
    "    display(no_columns)\n",
    "    display(choice_widget)\n",
    "    display(button)\n",
    "    plt.show()\n",
    "    for i in df_agg_answer.loc[choice_widget.value,:].sort_values(ascending=ascending)[:no_columns.value].index:\n",
    "        print(f'{i} - {questions[i]}')\n",
    "    \n",
    "\n",
    "side = widgets.RadioButtons(\n",
    "    options=['Top', 'Bottom']\n",
    ")\n",
    "display(side)\n",
    "no_columns = widgets.IntSlider(\n",
    "    value=5,\n",
    "    min=1,\n",
    "    max=10,\n",
    "    step=1,\n",
    "    description='No of questions'\n",
    ")\n",
    "display(no_columns)\n",
    "choice_widget = widgets.Dropdown(options=[1,2,3,4,5], description='Class:')\n",
    "display(choice_widget)\n",
    "button = widgets.Button(description='Click')\n",
    "button.on_click(click)\n",
    "display(button)"
   ]
  },
  {
   "cell_type": "code",
   "execution_count": 224,
   "metadata": {
    "ExecuteTime": {
     "end_time": "2020-06-05T13:07:23.500302Z",
     "start_time": "2020-06-05T13:07:23.471255Z"
    },
    "scrolled": true
   },
   "outputs": [],
   "source": [
    "question_choice = widgets.Dropdown(options=list(questions.keys()), description='Class:')\n",
    "\n",
    "def question_plot(button):\n",
    "    clear_output()\n",
    "    plt.figure(figsize = (8,5))\n",
    "    sns.barplot(x = df_agg_answer.index, y=df_agg_answer[question_choice.value])\n",
    "    plt.title(questions[question_choice.value], fontsize=20)\n",
    "    plt.xlabel('Classes')\n",
    "    plt.ylim(top=5)\n",
    "    display(question_choice)\n",
    "    display(button2)\n",
    "    plt.show()\n",
    "    \n",
    "button2 = widgets.Button(description='Click')\n",
    "button2.on_click(question_plot)"
   ]
  },
  {
   "cell_type": "code",
   "execution_count": 225,
   "metadata": {
    "ExecuteTime": {
     "end_time": "2020-06-05T13:07:23.516255Z",
     "start_time": "2020-06-05T13:07:23.504255Z"
    }
   },
   "outputs": [
    {
     "data": {
      "application/vnd.jupyter.widget-view+json": {
       "model_id": "492664599a804a448ec51ad95ff4000c",
       "version_major": 2,
       "version_minor": 0
      },
      "text/plain": [
       "Dropdown(description='Class:', index=13, options=('EXT1', 'EXT2', 'EXT3', 'EXT4', 'EXT5', 'EXT6', 'EXT7', 'EXT…"
      ]
     },
     "metadata": {},
     "output_type": "display_data"
    },
    {
     "data": {
      "application/vnd.jupyter.widget-view+json": {
       "model_id": "01f46aedb66d40ab970044639f9910c1",
       "version_major": 2,
       "version_minor": 0
      },
      "text/plain": [
       "Button(description='Click', style=ButtonStyle())"
      ]
     },
     "metadata": {},
     "output_type": "display_data"
    },
    {
     "data": {
      "image/png": "[encoded data removed]",
      "text/plain": [
       "<Figure size 576x360 with 1 Axes>"
      ]
     },
     "metadata": {
      "needs_background": "light"
     },
     "output_type": "display_data"
    }
   ],
   "source": [
    "display(question_choice)\n",
    "display(button2)"
   ]
  }
 ],
 "metadata": {
  "kernelspec": {
   "display_name": "Python 3",
   "language": "python",
   "name": "python3"
  },
  "language_info": {
   "codemirror_mode": {
    "name": "ipython",
    "version": 3
   },
   "file_extension": ".py",
   "mimetype": "text/x-python",
   "name": "python",
   "nbconvert_exporter": "python",
   "pygments_lexer": "ipython3",
   "version": "3.7.7"
  },
  "toc": {
   "base_numbering": 1,
   "nav_menu": {},
   "number_sections": true,
   "sideBar": true,
   "skip_h1_title": false,
   "title_cell": "Table of Contents",
   "title_sidebar": "Contents",
   "toc_cell": false,
   "toc_position": {},
   "toc_section_display": true,
   "toc_window_display": false
  },
  "varInspector": {
   "cols": {
    "lenName": 16,
    "lenType": 16,
    "lenVar": 40
   },
   "kernels_config": {
    "python": {
     "delete_cmd_postfix": "",
     "delete_cmd_prefix": "del ",
     "library": "var_list.py",
     "varRefreshCmd": "print(var_dic_list())"
    },
    "r": {
     "delete_cmd_postfix": ") ",
     "delete_cmd_prefix": "rm(",
     "library": "var_list.r",
     "varRefreshCmd": "cat(var_dic_list()) "
    }
   },
   "types_to_exclude": [
    "module",
    "function",
    "builtin_function_or_method",
    "instance",
    "_Feature"
   ],
   "window_display": false
  }
 },
 "nbformat": 4,
 "nbformat_minor": 4
}
